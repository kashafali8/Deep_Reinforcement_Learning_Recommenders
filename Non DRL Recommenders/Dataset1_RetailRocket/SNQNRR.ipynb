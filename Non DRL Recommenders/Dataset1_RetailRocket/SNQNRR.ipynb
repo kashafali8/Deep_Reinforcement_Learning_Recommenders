{
  "nbformat": 4,
  "nbformat_minor": 0,
  "metadata": {
    "colab": {
      "provenance": [],
      "machine_shape": "hm",
      "gpuType": "T4",
      "mount_file_id": "1hk5RxQfFJ8iaYNzU5_JocKH-dMak0nTa",
      "authorship_tag": "ABX9TyOJcyrZNX8LVRN/0ye+i7Q7",
      "include_colab_link": true
    },
    "kernelspec": {
      "name": "python3",
      "display_name": "Python 3"
    },
    "language_info": {
      "name": "python"
    },
    "accelerator": "GPU",
    "gpuClass": "standard"
  },
  "cells": [
    {
      "cell_type": "markdown",
      "metadata": {
        "id": "view-in-github",
        "colab_type": "text"
      },
      "source": [
        "<a href=\"https://colab.research.google.com/github/kashafali8/Deep_Reinforcement_Learning_Recommenders/blob/main/Non%20DRL%20Recommenders/Dataset1_RetailRocket/SNQNRR.ipynb\" target=\"_parent\"><img src=\"https://colab.research.google.com/assets/colab-badge.svg\" alt=\"Open In Colab\"/></a>"
      ]
    },
    {
      "cell_type": "markdown",
      "source": [
        "## Setup Requirements"
      ],
      "metadata": {
        "id": "Hi63q5hpMKfd"
      }
    },
    {
      "cell_type": "code",
      "execution_count": 1,
      "metadata": {
        "id": "WqeNW5JrLnrr",
        "colab": {
          "base_uri": "https://localhost:8080/"
        },
        "outputId": "b6399018-9b48-4f19-9fac-2c6ddfdc7e10"
      },
      "outputs": [
        {
          "output_type": "stream",
          "name": "stdout",
          "text": [
            "rm: cannot remove '/content/Deep_Reinforcement_Learning_Recommenders': No such file or directory\n"
          ]
        }
      ],
      "source": [
        "!rm -R /content/Deep_Reinforcement_Learning_Recommenders"
      ]
    },
    {
      "cell_type": "code",
      "source": [
        "!git clone https://github.com/kashafali8/Deep_Reinforcement_Learning_Recommenders.git"
      ],
      "metadata": {
        "id": "Ygp716vtLuYx",
        "colab": {
          "base_uri": "https://localhost:8080/"
        },
        "outputId": "e9ba285f-50e3-40e0-ef3c-96a947923831"
      },
      "execution_count": 1,
      "outputs": [
        {
          "output_type": "stream",
          "name": "stdout",
          "text": [
            "Cloning into 'Deep_Reinforcement_Learning_Recommenders'...\n",
            "remote: Enumerating objects: 580, done.\u001b[K\n",
            "remote: Counting objects: 100% (74/74), done.\u001b[K\n",
            "remote: Compressing objects: 100% (64/64), done.\u001b[K\n",
            "remote: Total 580 (delta 44), reused 21 (delta 9), pack-reused 506\u001b[K\n",
            "Receiving objects: 100% (580/580), 8.65 MiB | 17.44 MiB/s, done.\n",
            "Resolving deltas: 100% (340/340), done.\n"
          ]
        }
      ]
    },
    {
      "cell_type": "code",
      "source": [
        "!pip install trfl\n",
        "!pip install kaggle"
      ],
      "metadata": {
        "id": "D2jGmNpRLuVo",
        "colab": {
          "base_uri": "https://localhost:8080/"
        },
        "outputId": "fa16f92c-b0b5-4f9b-bcc6-0745baaf0b70"
      },
      "execution_count": 2,
      "outputs": [
        {
          "output_type": "stream",
          "name": "stdout",
          "text": [
            "Looking in indexes: https://pypi.org/simple, https://us-python.pkg.dev/colab-wheels/public/simple/\n",
            "Collecting trfl\n",
            "  Downloading trfl-1.2.0-py3-none-any.whl (104 kB)\n",
            "\u001b[2K     \u001b[90m━━━━━━━━━━━━━━━━━━━━━━━━━━━━━━━━━━━━━━━\u001b[0m \u001b[32m104.3/104.3 kB\u001b[0m \u001b[31m4.8 MB/s\u001b[0m eta \u001b[36m0:00:00\u001b[0m\n",
            "\u001b[?25hRequirement already satisfied: wrapt in /usr/local/lib/python3.10/dist-packages (from trfl) (1.14.1)\n",
            "Requirement already satisfied: dm-tree in /usr/local/lib/python3.10/dist-packages (from trfl) (0.1.8)\n",
            "Requirement already satisfied: absl-py in /usr/local/lib/python3.10/dist-packages (from trfl) (1.4.0)\n",
            "Requirement already satisfied: numpy in /usr/local/lib/python3.10/dist-packages (from trfl) (1.22.4)\n",
            "Requirement already satisfied: six in /usr/local/lib/python3.10/dist-packages (from trfl) (1.16.0)\n",
            "Installing collected packages: trfl\n",
            "Successfully installed trfl-1.2.0\n",
            "Looking in indexes: https://pypi.org/simple, https://us-python.pkg.dev/colab-wheels/public/simple/\n",
            "Requirement already satisfied: kaggle in /usr/local/lib/python3.10/dist-packages (1.5.13)\n",
            "Requirement already satisfied: requests in /usr/local/lib/python3.10/dist-packages (from kaggle) (2.27.1)\n",
            "Requirement already satisfied: six>=1.10 in /usr/local/lib/python3.10/dist-packages (from kaggle) (1.16.0)\n",
            "Requirement already satisfied: python-dateutil in /usr/local/lib/python3.10/dist-packages (from kaggle) (2.8.2)\n",
            "Requirement already satisfied: tqdm in /usr/local/lib/python3.10/dist-packages (from kaggle) (4.65.0)\n",
            "Requirement already satisfied: urllib3 in /usr/local/lib/python3.10/dist-packages (from kaggle) (1.26.15)\n",
            "Requirement already satisfied: certifi in /usr/local/lib/python3.10/dist-packages (from kaggle) (2022.12.7)\n",
            "Requirement already satisfied: python-slugify in /usr/local/lib/python3.10/dist-packages (from kaggle) (8.0.1)\n",
            "Requirement already satisfied: text-unidecode>=1.3 in /usr/local/lib/python3.10/dist-packages (from python-slugify->kaggle) (1.3)\n",
            "Requirement already satisfied: charset-normalizer~=2.0.0 in /usr/local/lib/python3.10/dist-packages (from requests->kaggle) (2.0.12)\n",
            "Requirement already satisfied: idna<4,>=2.5 in /usr/local/lib/python3.10/dist-packages (from requests->kaggle) (3.4)\n"
          ]
        }
      ]
    },
    {
      "cell_type": "code",
      "source": [
        "!mv /content/kaggle.json /root/.kaggle/kaggle.json"
      ],
      "metadata": {
        "id": "z0piQBxsLuTi"
      },
      "execution_count": 11,
      "outputs": []
    },
    {
      "cell_type": "markdown",
      "source": [
        "## Download the dataset"
      ],
      "metadata": {
        "id": "zhE1VeHDMGMs"
      }
    },
    {
      "cell_type": "code",
      "source": [
        "!kaggle datasets download -d retailrocket/ecommerce-dataset"
      ],
      "metadata": {
        "id": "2e2odubLLuRc",
        "colab": {
          "base_uri": "https://localhost:8080/"
        },
        "outputId": "139dc3d8-1c74-475c-f9a5-a6a249f6008b"
      },
      "execution_count": 12,
      "outputs": [
        {
          "output_type": "stream",
          "name": "stdout",
          "text": [
            "Warning: Your Kaggle API key is readable by other users on this system! To fix this, you can run 'chmod 600 /root/.kaggle/kaggle.json'\n",
            "Downloading ecommerce-dataset.zip to /content\n",
            "100% 290M/291M [00:01<00:00, 223MB/s]\n",
            "100% 291M/291M [00:01<00:00, 177MB/s]\n"
          ]
        }
      ]
    },
    {
      "cell_type": "code",
      "source": [
        "!unzip ecommerce-dataset.zip -d '/content/Deep_Reinforcement_Learning_Recommenders/Non DRL Recommenders/Dataset1_RetailRocket/data/'"
      ],
      "metadata": {
        "id": "L1A-cFcdLuPZ",
        "colab": {
          "base_uri": "https://localhost:8080/"
        },
        "outputId": "1841d4fc-d5f5-472e-a2cb-025d4fb71f05"
      },
      "execution_count": 15,
      "outputs": [
        {
          "output_type": "stream",
          "name": "stdout",
          "text": [
            "Archive:  ecommerce-dataset.zip\n",
            "  inflating: /content/Deep_Reinforcement_Learning_Recommenders/Non DRL Recommenders/Dataset1_RetailRocket/data/category_tree.csv  \n",
            "  inflating: /content/Deep_Reinforcement_Learning_Recommenders/Non DRL Recommenders/Dataset1_RetailRocket/data/events.csv  \n",
            "  inflating: /content/Deep_Reinforcement_Learning_Recommenders/Non DRL Recommenders/Dataset1_RetailRocket/data/item_properties_part1.csv  \n",
            "  inflating: /content/Deep_Reinforcement_Learning_Recommenders/Non DRL Recommenders/Dataset1_RetailRocket/data/item_properties_part2.csv  \n"
          ]
        }
      ]
    },
    {
      "cell_type": "code",
      "source": [
        "!rm ecommerce-dataset.zip"
      ],
      "metadata": {
        "id": "XJFsJR7KLuMy"
      },
      "execution_count": 16,
      "outputs": []
    },
    {
      "cell_type": "markdown",
      "source": [
        "## Preprocess the data\n"
      ],
      "metadata": {
        "id": "K2FZ2p8xL3Tw"
      }
    },
    {
      "cell_type": "code",
      "source": [
        "!python '/content/Deep_Reinforcement_Learning_Recommenders/Non DRL Recommenders/Dataset1_RetailRocket/src/replay_buffer.py' --data '/content/Deep_Reinforcement_Learning_Recommenders/Non DRL Recommenders/Dataset1_RetailRocket/data/'"
      ],
      "metadata": {
        "id": "tzSoCOkvLuKt",
        "colab": {
          "base_uri": "https://localhost:8080/"
        },
        "outputId": "39c8b20a-91dc-4882-ad59-4f2d3e539e82"
      },
      "execution_count": 19,
      "outputs": [
        {
          "output_type": "stream",
          "name": "stdout",
          "text": [
            "\n",
            "Starting to pre-process data...\n",
            "\n",
            "Sorting and pickling data...\n",
            "\n",
            "Splitting data into train, validation, and test sets...\n",
            "\n",
            "Pickling train, validation, and test sets...\n",
            "\n",
            "Calculating item popularity and storing as dictionary...\n",
            "\n",
            "Generating replay buffer from train set...\n",
            "\n",
            "Pickling replay buffer...\n",
            "\n",
            "Pickling data statistics...\n",
            "\n",
            "Script completed successfully!\n"
          ]
        }
      ]
    },
    {
      "cell_type": "markdown",
      "source": [
        "## SNQN without item features"
      ],
      "metadata": {
        "id": "pLBieOkEL-Js"
      }
    },
    {
      "cell_type": "code",
      "source": [
        "!python \"/content/Deep_Reinforcement_Learning_Recommenders/Non DRL Recommenders/Dataset1_RetailRocket/src/SNQN_v1.py\" --model=SASRec --epoch=5 --data=\"/content/Deep_Reinforcement_Learning_Recommenders/Non DRL Recommenders/Dataset1_RetailRocket/data/\""
      ],
      "metadata": {
        "id": "3K6AMhX5LuIW",
        "colab": {
          "base_uri": "https://localhost:8080/"
        },
        "outputId": "4b143ae6-3adc-4ee1-8270-4050381ff407"
      },
      "execution_count": 21,
      "outputs": [
        {
          "output_type": "stream",
          "name": "stdout",
          "text": [
            "2023-05-05 00:15:45.503370: I tensorflow/core/platform/cpu_feature_guard.cc:182] This TensorFlow binary is optimized to use available CPU instructions in performance-critical operations.\n",
            "To enable the following instructions: AVX2 FMA, in other operations, rebuild TensorFlow with the appropriate compiler flags.\n",
            "2023-05-05 00:15:46.455881: W tensorflow/compiler/tf2tensorrt/utils/py_utils.cc:38] TF-TRT Warning: Could not find TensorRT\n",
            "/content/Deep_Reinforcement_Learning_Recommenders/Non DRL Recommenders/Dataset1_RetailRocket/src/SNQN_v1.py:178: UserWarning: `tf.layers.dropout` is deprecated and will be removed in a future version. Please use `tf.keras.layers.Dropout` instead.\n",
            "  self.seq = tf.compat.v1.layers.dropout(self.seq,\n",
            "2023-05-05 00:15:48.192168: I tensorflow/core/common_runtime/executor.cc:1197] [/device:CPU:0] (DEBUG INFO) Executor start aborting (this does not indicate an error and you can ignore this message): INVALID_ARGUMENT: You must feed a value for placeholder tensor 'Placeholder' with dtype bool\n",
            "\t [[{{node Placeholder}}]]\n",
            "2023-05-05 00:15:48.221909: I tensorflow/compiler/xla/stream_executor/cuda/cuda_gpu_executor.cc:996] successful NUMA node read from SysFS had negative value (-1), but there must be at least one NUMA node, so returning NUMA node zero. See more at https://github.com/torvalds/linux/blob/v6.0/Documentation/ABI/testing/sysfs-bus-pci#L344-L355\n",
            "2023-05-05 00:15:48.252179: I tensorflow/compiler/xla/stream_executor/cuda/cuda_gpu_executor.cc:996] successful NUMA node read from SysFS had negative value (-1), but there must be at least one NUMA node, so returning NUMA node zero. See more at https://github.com/torvalds/linux/blob/v6.0/Documentation/ABI/testing/sysfs-bus-pci#L344-L355\n",
            "2023-05-05 00:15:48.252429: I tensorflow/compiler/xla/stream_executor/cuda/cuda_gpu_executor.cc:996] successful NUMA node read from SysFS had negative value (-1), but there must be at least one NUMA node, so returning NUMA node zero. See more at https://github.com/torvalds/linux/blob/v6.0/Documentation/ABI/testing/sysfs-bus-pci#L344-L355\n",
            "/content/Deep_Reinforcement_Learning_Recommenders/Non DRL Recommenders/Dataset1_RetailRocket/src/SASRecModules.py:142: UserWarning: `tf.layers.dense` is deprecated and will be removed in a future version. Please use `tf.keras.layers.Dense` instead.\n",
            "  Q = tf.compat.v1.layers.dense(queries, num_units, activation=None) # (N, T_q, C)\n",
            "/content/Deep_Reinforcement_Learning_Recommenders/Non DRL Recommenders/Dataset1_RetailRocket/src/SASRecModules.py:143: UserWarning: `tf.layers.dense` is deprecated and will be removed in a future version. Please use `tf.keras.layers.Dense` instead.\n",
            "  K = tf.compat.v1.layers.dense(keys, num_units, activation=None) # (N, T_k, C)\n",
            "/content/Deep_Reinforcement_Learning_Recommenders/Non DRL Recommenders/Dataset1_RetailRocket/src/SASRecModules.py:144: UserWarning: `tf.layers.dense` is deprecated and will be removed in a future version. Please use `tf.keras.layers.Dense` instead.\n",
            "  V = tf.compat.v1.layers.dense(keys, num_units, activation=None) # (N, T_k, C)\n",
            "/content/Deep_Reinforcement_Learning_Recommenders/Non DRL Recommenders/Dataset1_RetailRocket/src/SASRecModules.py:184: UserWarning: `tf.layers.dropout` is deprecated and will be removed in a future version. Please use `tf.keras.layers.Dropout` instead.\n",
            "  outputs = tf.compat.v1.layers.dropout(outputs, rate=dropout_rate, training=tf.convert_to_tensor(value=is_training))\n",
            "2023-05-05 00:15:48.400573: I tensorflow/core/common_runtime/executor.cc:1197] [/device:CPU:0] (DEBUG INFO) Executor start aborting (this does not indicate an error and you can ignore this message): INVALID_ARGUMENT: You must feed a value for placeholder tensor 'Placeholder' with dtype bool\n",
            "\t [[{{node Placeholder}}]]\n",
            "/content/Deep_Reinforcement_Learning_Recommenders/Non DRL Recommenders/Dataset1_RetailRocket/src/SASRecModules.py:223: UserWarning: `tf.layers.conv1d` is deprecated and will be removed in a future version. Please Use `tf.keras.layers.Conv1D` instead.\n",
            "  outputs = tf.compat.v1.layers.conv1d(**params)\n",
            "/content/Deep_Reinforcement_Learning_Recommenders/Non DRL Recommenders/Dataset1_RetailRocket/src/SASRecModules.py:224: UserWarning: `tf.layers.dropout` is deprecated and will be removed in a future version. Please use `tf.keras.layers.Dropout` instead.\n",
            "  outputs = tf.compat.v1.layers.dropout(outputs, rate=dropout_rate, training=tf.convert_to_tensor(value=is_training))\n",
            "2023-05-05 00:15:48.454912: I tensorflow/core/common_runtime/executor.cc:1197] [/device:CPU:0] (DEBUG INFO) Executor start aborting (this does not indicate an error and you can ignore this message): INVALID_ARGUMENT: You must feed a value for placeholder tensor 'Placeholder' with dtype bool\n",
            "\t [[{{node Placeholder}}]]\n",
            "/content/Deep_Reinforcement_Learning_Recommenders/Non DRL Recommenders/Dataset1_RetailRocket/src/SASRecModules.py:228: UserWarning: `tf.layers.conv1d` is deprecated and will be removed in a future version. Please Use `tf.keras.layers.Conv1D` instead.\n",
            "  outputs = tf.compat.v1.layers.conv1d(**params)\n",
            "/content/Deep_Reinforcement_Learning_Recommenders/Non DRL Recommenders/Dataset1_RetailRocket/src/SASRecModules.py:229: UserWarning: `tf.layers.dropout` is deprecated and will be removed in a future version. Please use `tf.keras.layers.Dropout` instead.\n",
            "  outputs = tf.compat.v1.layers.dropout(outputs, rate=dropout_rate, training=tf.convert_to_tensor(value=is_training))\n",
            "2023-05-05 00:15:48.492709: I tensorflow/core/common_runtime/executor.cc:1197] [/device:CPU:0] (DEBUG INFO) Executor start aborting (this does not indicate an error and you can ignore this message): INVALID_ARGUMENT: You must feed a value for placeholder tensor 'Placeholder' with dtype bool\n",
            "\t [[{{node Placeholder}}]]\n",
            "/content/Deep_Reinforcement_Learning_Recommenders/Non DRL Recommenders/Dataset1_RetailRocket/src/SNQN_v1.py:206: UserWarning: `tf.layers.dense` is deprecated and will be removed in a future version. Please use `tf.keras.layers.Dense` instead.\n",
            "  self.output1 = tf.compat.v1.layers.dense(self.states_hidden, self.item_num,\n",
            "/content/Deep_Reinforcement_Learning_Recommenders/Non DRL Recommenders/Dataset1_RetailRocket/src/SNQN_v1.py:209: UserWarning: `tf.layers.dense` is deprecated and will be removed in a future version. Please use `tf.keras.layers.Dense` instead.\n",
            "  self.output2= tf.compat.v1.layers.dense(self.states_hidden, self.item_num,\n",
            "2023-05-05 00:15:49.663088: I tensorflow/core/common_runtime/executor.cc:1197] [/device:CPU:0] (DEBUG INFO) Executor start aborting (this does not indicate an error and you can ignore this message): INVALID_ARGUMENT: You must feed a value for placeholder tensor 'Placeholder_1' with dtype bool\n",
            "\t [[{{node Placeholder_1}}]]\n",
            "2023-05-05 00:15:49.807238: I tensorflow/core/common_runtime/executor.cc:1197] [/device:CPU:0] (DEBUG INFO) Executor start aborting (this does not indicate an error and you can ignore this message): INVALID_ARGUMENT: You must feed a value for placeholder tensor 'Placeholder_1' with dtype bool\n",
            "\t [[{{node Placeholder_1}}]]\n",
            "2023-05-05 00:15:49.860828: I tensorflow/core/common_runtime/executor.cc:1197] [/device:CPU:0] (DEBUG INFO) Executor start aborting (this does not indicate an error and you can ignore this message): INVALID_ARGUMENT: You must feed a value for placeholder tensor 'Placeholder_1' with dtype bool\n",
            "\t [[{{node Placeholder_1}}]]\n",
            "2023-05-05 00:15:49.899435: I tensorflow/core/common_runtime/executor.cc:1197] [/device:CPU:0] (DEBUG INFO) Executor start aborting (this does not indicate an error and you can ignore this message): INVALID_ARGUMENT: You must feed a value for placeholder tensor 'Placeholder_1' with dtype bool\n",
            "\t [[{{node Placeholder_1}}]]\n",
            "2023-05-05 00:15:54.198199: I tensorflow/compiler/xla/stream_executor/cuda/cuda_gpu_executor.cc:996] successful NUMA node read from SysFS had negative value (-1), but there must be at least one NUMA node, so returning NUMA node zero. See more at https://github.com/torvalds/linux/blob/v6.0/Documentation/ABI/testing/sysfs-bus-pci#L344-L355\n",
            "2023-05-05 00:15:54.198551: I tensorflow/compiler/xla/stream_executor/cuda/cuda_gpu_executor.cc:996] successful NUMA node read from SysFS had negative value (-1), but there must be at least one NUMA node, so returning NUMA node zero. See more at https://github.com/torvalds/linux/blob/v6.0/Documentation/ABI/testing/sysfs-bus-pci#L344-L355\n",
            "2023-05-05 00:15:54.198734: I tensorflow/compiler/xla/stream_executor/cuda/cuda_gpu_executor.cc:996] successful NUMA node read from SysFS had negative value (-1), but there must be at least one NUMA node, so returning NUMA node zero. See more at https://github.com/torvalds/linux/blob/v6.0/Documentation/ABI/testing/sysfs-bus-pci#L344-L355\n",
            "2023-05-05 00:15:55.180414: I tensorflow/compiler/xla/stream_executor/cuda/cuda_gpu_executor.cc:996] successful NUMA node read from SysFS had negative value (-1), but there must be at least one NUMA node, so returning NUMA node zero. See more at https://github.com/torvalds/linux/blob/v6.0/Documentation/ABI/testing/sysfs-bus-pci#L344-L355\n",
            "2023-05-05 00:15:55.180662: I tensorflow/compiler/xla/stream_executor/cuda/cuda_gpu_executor.cc:996] successful NUMA node read from SysFS had negative value (-1), but there must be at least one NUMA node, so returning NUMA node zero. See more at https://github.com/torvalds/linux/blob/v6.0/Documentation/ABI/testing/sysfs-bus-pci#L344-L355\n",
            "2023-05-05 00:15:55.180901: I tensorflow/compiler/xla/stream_executor/cuda/cuda_gpu_executor.cc:996] successful NUMA node read from SysFS had negative value (-1), but there must be at least one NUMA node, so returning NUMA node zero. See more at https://github.com/torvalds/linux/blob/v6.0/Documentation/ABI/testing/sysfs-bus-pci#L344-L355\n",
            "2023-05-05 00:15:55.181050: W tensorflow/core/common_runtime/gpu/gpu_bfc_allocator.cc:47] Overriding orig_value setting because the TF_FORCE_GPU_ALLOW_GROWTH environment variable is set. Original config value was 0.\n",
            "2023-05-05 00:15:55.181099: I tensorflow/core/common_runtime/gpu/gpu_device.cc:1635] Created device /job:localhost/replica:0/task:0/device:GPU:0 with 13678 MB memory:  -> device: 0, name: Tesla T4, pci bus id: 0000:00:04.0, compute capability: 7.5\n",
            "2023-05-05 00:15:55.217787: I tensorflow/compiler/mlir/mlir_graph_optimization_pass.cc:353] MLIR V1 optimization pass is not enabled\n",
            "2023-05-05 00:15:56.724393: I tensorflow/compiler/xla/stream_executor/cuda/cuda_dnn.cc:424] Loaded cuDNN version 8700\n",
            "the loss in 200th batch is: 10.716716\n",
            "the loss in 400th batch is: 10.535574\n",
            "the loss in 600th batch is: 9.991848\n",
            "the loss in 800th batch is: 10.060183\n",
            "the loss in 1000th batch is: 9.742814\n",
            "the loss in 1200th batch is: 9.423857\n",
            "the loss in 1400th batch is: 9.274171\n",
            "the loss in 1600th batch is: 8.752930\n",
            "the loss in 1800th batch is: 8.713611\n",
            "the loss in 2000th batch is: 8.781954\n",
            "the loss in 2200th batch is: 8.609241\n",
            "the loss in 2400th batch is: 8.672318\n",
            "the loss in 2600th batch is: 8.588985\n",
            "the loss in 2800th batch is: 8.305123\n",
            "the loss in 3000th batch is: 8.410496\n",
            "the loss in 3200th batch is: 7.718877\n",
            "the loss in 3400th batch is: 8.275149\n",
            "the loss in 3600th batch is: 7.830039\n",
            "the loss in 3800th batch is: 7.638966\n",
            "the loss in 4000th batch is: 7.900048\n",
            "#############################################################\n",
            "total clicks: 117015, total purchase:5578\n",
            "~~~~~~~~~~~~~~~~~~~~~~~~~~~~~~~~~~~~~~~~~~~~~~~~~~~~~~~~~~~~~\n",
            "cumulative reward @ 5: 1.400000\n",
            "clicks hr ndcg @ 5 : 0.000060, 0.000037\n",
            "purchase hr and ndcg @5 : 0.000000, 0.000000\n",
            "~~~~~~~~~~~~~~~~~~~~~~~~~~~~~~~~~~~~~~~~~~~~~~~~~~~~~~~~~~~~~\n",
            "cumulative reward @ 10: 3.200000\n",
            "clicks hr ndcg @ 10 : 0.000137, 0.000062\n",
            "purchase hr and ndcg @10 : 0.000000, 0.000000\n",
            "~~~~~~~~~~~~~~~~~~~~~~~~~~~~~~~~~~~~~~~~~~~~~~~~~~~~~~~~~~~~~\n",
            "cumulative reward @ 15: 4.800000\n",
            "clicks hr ndcg @ 15 : 0.000205, 0.000080\n",
            "purchase hr and ndcg @15 : 0.000000, 0.000000\n",
            "~~~~~~~~~~~~~~~~~~~~~~~~~~~~~~~~~~~~~~~~~~~~~~~~~~~~~~~~~~~~~\n",
            "cumulative reward @ 20: 6.200000\n",
            "clicks hr ndcg @ 20 : 0.000265, 0.000094\n",
            "purchase hr and ndcg @20 : 0.000000, 0.000000\n",
            "#############################################################\n",
            "the loss in 4200th batch is: 7.374584\n",
            "the loss in 4400th batch is: 7.413875\n",
            "the loss in 4600th batch is: 7.346590\n",
            "the loss in 4800th batch is: 7.311380\n",
            "the loss in 5000th batch is: 7.522168\n",
            "the loss in 5200th batch is: 6.649368\n",
            "the loss in 5400th batch is: 6.984518\n",
            "the loss in 5600th batch is: 6.756446\n",
            "the loss in 5800th batch is: 6.504550\n",
            "the loss in 6000th batch is: 6.705168\n",
            "the loss in 6200th batch is: 6.363582\n",
            "the loss in 6400th batch is: 6.519645\n",
            "the loss in 6600th batch is: 6.797998\n",
            "the loss in 6800th batch is: 6.139177\n",
            "the loss in 7000th batch is: 6.479264\n",
            "the loss in 7200th batch is: 6.437186\n",
            "the loss in 7400th batch is: 6.697340\n",
            "the loss in 7600th batch is: 6.048360\n",
            "the loss in 7800th batch is: 6.780047\n",
            "the loss in 8000th batch is: 6.365576\n",
            "#############################################################\n",
            "total clicks: 117015, total purchase:5578\n",
            "~~~~~~~~~~~~~~~~~~~~~~~~~~~~~~~~~~~~~~~~~~~~~~~~~~~~~~~~~~~~~\n",
            "cumulative reward @ 5: 0.600000\n",
            "clicks hr ndcg @ 5 : 0.000026, 0.000018\n",
            "purchase hr and ndcg @5 : 0.000000, 0.000000\n",
            "~~~~~~~~~~~~~~~~~~~~~~~~~~~~~~~~~~~~~~~~~~~~~~~~~~~~~~~~~~~~~\n",
            "cumulative reward @ 10: 3.000000\n",
            "clicks hr ndcg @ 10 : 0.000128, 0.000050\n",
            "purchase hr and ndcg @10 : 0.000000, 0.000000\n",
            "~~~~~~~~~~~~~~~~~~~~~~~~~~~~~~~~~~~~~~~~~~~~~~~~~~~~~~~~~~~~~\n",
            "cumulative reward @ 15: 4.200000\n",
            "clicks hr ndcg @ 15 : 0.000179, 0.000064\n",
            "purchase hr and ndcg @15 : 0.000000, 0.000000\n",
            "~~~~~~~~~~~~~~~~~~~~~~~~~~~~~~~~~~~~~~~~~~~~~~~~~~~~~~~~~~~~~\n",
            "cumulative reward @ 20: 6.800000\n",
            "clicks hr ndcg @ 20 : 0.000248, 0.000080\n",
            "purchase hr and ndcg @20 : 0.000179, 0.000043\n",
            "#############################################################\n",
            "the loss in 8200th batch is: 6.430900\n",
            "the loss in 8400th batch is: 6.228829\n",
            "the loss in 8600th batch is: 6.291697\n",
            "the loss in 8800th batch is: 6.017889\n",
            "the loss in 9000th batch is: 6.490838\n",
            "the loss in 9200th batch is: 6.206775\n",
            "the loss in 9400th batch is: 6.078234\n",
            "the loss in 9600th batch is: 5.567087\n",
            "the loss in 9800th batch is: 5.990097\n",
            "the loss in 10000th batch is: 5.634096\n",
            "the loss in 10200th batch is: 5.973469\n",
            "the loss in 10400th batch is: 5.475584\n",
            "the loss in 10600th batch is: 6.088696\n",
            "the loss in 10800th batch is: 5.609758\n",
            "the loss in 11000th batch is: 5.556795\n",
            "the loss in 11200th batch is: 5.785669\n",
            "the loss in 11400th batch is: 6.297878\n",
            "the loss in 11600th batch is: 5.965762\n",
            "the loss in 11800th batch is: 6.110276\n",
            "the loss in 12000th batch is: 5.601076\n",
            "#############################################################\n",
            "total clicks: 117015, total purchase:5578\n",
            "~~~~~~~~~~~~~~~~~~~~~~~~~~~~~~~~~~~~~~~~~~~~~~~~~~~~~~~~~~~~~\n",
            "cumulative reward @ 5: 1.800000\n",
            "clicks hr ndcg @ 5 : 0.000077, 0.000046\n",
            "purchase hr and ndcg @5 : 0.000000, 0.000000\n",
            "~~~~~~~~~~~~~~~~~~~~~~~~~~~~~~~~~~~~~~~~~~~~~~~~~~~~~~~~~~~~~\n",
            "cumulative reward @ 10: 3.400000\n",
            "clicks hr ndcg @ 10 : 0.000145, 0.000067\n",
            "purchase hr and ndcg @10 : 0.000000, 0.000000\n",
            "~~~~~~~~~~~~~~~~~~~~~~~~~~~~~~~~~~~~~~~~~~~~~~~~~~~~~~~~~~~~~\n",
            "cumulative reward @ 15: 4.400000\n",
            "clicks hr ndcg @ 15 : 0.000188, 0.000078\n",
            "purchase hr and ndcg @15 : 0.000000, 0.000000\n",
            "~~~~~~~~~~~~~~~~~~~~~~~~~~~~~~~~~~~~~~~~~~~~~~~~~~~~~~~~~~~~~\n",
            "cumulative reward @ 20: 6.600000\n",
            "clicks hr ndcg @ 20 : 0.000282, 0.000100\n",
            "purchase hr and ndcg @20 : 0.000000, 0.000000\n",
            "#############################################################\n",
            "the loss in 12200th batch is: 5.889468\n",
            "the loss in 12400th batch is: 5.863169\n",
            "the loss in 12600th batch is: 5.873672\n",
            "the loss in 12800th batch is: 5.765471\n",
            "the loss in 13000th batch is: 5.723955\n",
            "the loss in 13200th batch is: 5.619087\n",
            "the loss in 13400th batch is: 5.537967\n",
            "the loss in 13600th batch is: 5.672047\n",
            "the loss in 13800th batch is: 5.671411\n",
            "the loss in 14000th batch is: 5.417600\n",
            "the loss in 14200th batch is: 5.976378\n",
            "the loss in 14400th batch is: 5.676244\n",
            "the loss in 14600th batch is: 5.404962\n",
            "the loss in 14800th batch is: 5.361684\n",
            "the loss in 15000th batch is: 5.842629\n",
            "the loss in 15200th batch is: 5.318409\n",
            "the loss in 15400th batch is: 5.609055\n",
            "the loss in 15600th batch is: 5.315935\n",
            "the loss in 15800th batch is: 5.578239\n",
            "the loss in 16000th batch is: 5.873850\n",
            "#############################################################\n",
            "total clicks: 117015, total purchase:5578\n",
            "~~~~~~~~~~~~~~~~~~~~~~~~~~~~~~~~~~~~~~~~~~~~~~~~~~~~~~~~~~~~~\n",
            "cumulative reward @ 5: 1.200000\n",
            "clicks hr ndcg @ 5 : 0.000051, 0.000033\n",
            "purchase hr and ndcg @5 : 0.000000, 0.000000\n",
            "~~~~~~~~~~~~~~~~~~~~~~~~~~~~~~~~~~~~~~~~~~~~~~~~~~~~~~~~~~~~~\n",
            "cumulative reward @ 10: 2.400000\n",
            "clicks hr ndcg @ 10 : 0.000103, 0.000050\n",
            "purchase hr and ndcg @10 : 0.000000, 0.000000\n",
            "~~~~~~~~~~~~~~~~~~~~~~~~~~~~~~~~~~~~~~~~~~~~~~~~~~~~~~~~~~~~~\n",
            "cumulative reward @ 15: 3.200000\n",
            "clicks hr ndcg @ 15 : 0.000137, 0.000059\n",
            "purchase hr and ndcg @15 : 0.000000, 0.000000\n",
            "~~~~~~~~~~~~~~~~~~~~~~~~~~~~~~~~~~~~~~~~~~~~~~~~~~~~~~~~~~~~~\n",
            "cumulative reward @ 20: 4.800000\n",
            "clicks hr ndcg @ 20 : 0.000205, 0.000075\n",
            "purchase hr and ndcg @20 : 0.000000, 0.000000\n",
            "#############################################################\n",
            "the loss in 16200th batch is: 5.600142\n",
            "the loss in 16400th batch is: 5.767117\n",
            "the loss in 16600th batch is: 5.843048\n",
            "the loss in 16800th batch is: 5.728114\n",
            "the loss in 17000th batch is: 5.266967\n",
            "the loss in 17200th batch is: 5.365803\n",
            "the loss in 17400th batch is: 5.521659\n",
            "the loss in 17600th batch is: 5.717207\n",
            "the loss in 17800th batch is: 5.905097\n",
            "the loss in 18000th batch is: 5.473311\n",
            "the loss in 18200th batch is: 5.801832\n",
            "the loss in 18400th batch is: 5.028120\n",
            "the loss in 18600th batch is: 5.425913\n",
            "the loss in 18800th batch is: 5.430493\n",
            "the loss in 19000th batch is: 5.418128\n",
            "the loss in 19200th batch is: 5.300252\n"
          ]
        }
      ]
    }
  ]
}