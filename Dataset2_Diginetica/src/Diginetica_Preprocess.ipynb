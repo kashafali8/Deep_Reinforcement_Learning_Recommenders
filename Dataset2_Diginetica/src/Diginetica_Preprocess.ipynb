{
  "nbformat": 4,
  "nbformat_minor": 0,
  "metadata": {
    "colab": {
      "provenance": [],
      "authorship_tag": "ABX9TyNx92YFti5OddNz8zToNVpr",
      "include_colab_link": true
    },
    "kernelspec": {
      "name": "python3",
      "display_name": "Python 3"
    },
    "language_info": {
      "name": "python"
    }
  },
  "cells": [
    {
      "cell_type": "markdown",
      "metadata": {
        "id": "view-in-github",
        "colab_type": "text"
      },
      "source": [
        "<a href=\"https://colab.research.google.com/github/kashafali8/Deep_Reinforcement_Learning_Recommenders/blob/main/Dataset2_Diginetica/src/Diginetica_Preprocess.ipynb\" target=\"_parent\"><img src=\"https://colab.research.google.com/assets/colab-badge.svg\" alt=\"Open In Colab\"/></a>"
      ]
    },
    {
      "cell_type": "markdown",
      "source": [
        "\n",
        "1) Mount you google drive with all the scripts and point to the folder containing the source code"
      ],
      "metadata": {
        "id": "OIFqnwrIeCVT"
      }
    },
    {
      "cell_type": "code",
      "execution_count": 1,
      "metadata": {
        "id": "kTra-sHoHgjA",
        "colab": {
          "base_uri": "https://localhost:8080/"
        },
        "outputId": "00dc061b-8515-4122-941e-6e5887b2ef5b"
      },
      "outputs": [
        {
          "output_type": "stream",
          "name": "stdout",
          "text": [
            "Drive already mounted at /content/GoogleDrive; to attempt to forcibly remount, call drive.mount(\"/content/GoogleDrive\", force_remount=True).\n",
            "/content/GoogleDrive/My Drive/DUKE/AIPI531_DRL/Project/Data/dataset-train-diginetica\n",
            "product-categories.csv\ttrain-clicks.csv      train-purchases.csv\n",
            "products.csv\t\ttrain-item-views.csv\n"
          ]
        }
      ],
      "source": [
        "# Mount Google Drive folder\n",
        "from google.colab import drive\n",
        "drive.mount('/content/GoogleDrive')\n",
        "PROJ_DIR = '/content/GoogleDrive/My Drive/DUKE/AIPI531_DRL/Project/Data/dataset-train-diginetica'\n",
        "# change current directory after mounting\n",
        "%cd $PROJ_DIR\n",
        "! ls"
      ]
    },
    {
      "cell_type": "markdown",
      "source": [
        "2. Read csvs"
      ],
      "metadata": {
        "id": "W8OTiSkje7Dm"
      }
    },
    {
      "cell_type": "code",
      "source": [
        "import pandas as pd\n",
        "import numpy as np\n",
        "from sklearn.preprocessing import LabelEncoder"
      ],
      "metadata": {
        "id": "n_RsdSn9e6tD"
      },
      "execution_count": 2,
      "outputs": []
    },
    {
      "cell_type": "code",
      "source": [
        "views = pd.read_csv(\"train-item-views.csv\", sep=\";\")\n",
        "purchases = pd.read_csv(\"train-purchases.csv\", sep=\";\")\n"
      ],
      "metadata": {
        "id": "sxRHsW4ofHlv"
      },
      "execution_count": 3,
      "outputs": []
    },
    {
      "cell_type": "code",
      "source": [
        "views.head()"
      ],
      "metadata": {
        "colab": {
          "base_uri": "https://localhost:8080/",
          "height": 206
        },
        "id": "CKtCw65EfXAC",
        "outputId": "1cdf4cdc-238b-4493-f1a5-39916538be66"
      },
      "execution_count": 4,
      "outputs": [
        {
          "output_type": "execute_result",
          "data": {
            "text/plain": [
              "   sessionId  userId  itemId  timeframe   eventdate\n",
              "0          1     NaN   81766     526309  2016-05-09\n",
              "1          1     NaN   31331    1031018  2016-05-09\n",
              "2          1     NaN   32118     243569  2016-05-09\n",
              "3          1     NaN    9654      75848  2016-05-09\n",
              "4          1     NaN   32627    1112408  2016-05-09"
            ],
            "text/html": [
              "\n",
              "  <div id=\"df-b817121b-7b62-44ed-93b5-9677e34d2411\">\n",
              "    <div class=\"colab-df-container\">\n",
              "      <div>\n",
              "<style scoped>\n",
              "    .dataframe tbody tr th:only-of-type {\n",
              "        vertical-align: middle;\n",
              "    }\n",
              "\n",
              "    .dataframe tbody tr th {\n",
              "        vertical-align: top;\n",
              "    }\n",
              "\n",
              "    .dataframe thead th {\n",
              "        text-align: right;\n",
              "    }\n",
              "</style>\n",
              "<table border=\"1\" class=\"dataframe\">\n",
              "  <thead>\n",
              "    <tr style=\"text-align: right;\">\n",
              "      <th></th>\n",
              "      <th>sessionId</th>\n",
              "      <th>userId</th>\n",
              "      <th>itemId</th>\n",
              "      <th>timeframe</th>\n",
              "      <th>eventdate</th>\n",
              "    </tr>\n",
              "  </thead>\n",
              "  <tbody>\n",
              "    <tr>\n",
              "      <th>0</th>\n",
              "      <td>1</td>\n",
              "      <td>NaN</td>\n",
              "      <td>81766</td>\n",
              "      <td>526309</td>\n",
              "      <td>2016-05-09</td>\n",
              "    </tr>\n",
              "    <tr>\n",
              "      <th>1</th>\n",
              "      <td>1</td>\n",
              "      <td>NaN</td>\n",
              "      <td>31331</td>\n",
              "      <td>1031018</td>\n",
              "      <td>2016-05-09</td>\n",
              "    </tr>\n",
              "    <tr>\n",
              "      <th>2</th>\n",
              "      <td>1</td>\n",
              "      <td>NaN</td>\n",
              "      <td>32118</td>\n",
              "      <td>243569</td>\n",
              "      <td>2016-05-09</td>\n",
              "    </tr>\n",
              "    <tr>\n",
              "      <th>3</th>\n",
              "      <td>1</td>\n",
              "      <td>NaN</td>\n",
              "      <td>9654</td>\n",
              "      <td>75848</td>\n",
              "      <td>2016-05-09</td>\n",
              "    </tr>\n",
              "    <tr>\n",
              "      <th>4</th>\n",
              "      <td>1</td>\n",
              "      <td>NaN</td>\n",
              "      <td>32627</td>\n",
              "      <td>1112408</td>\n",
              "      <td>2016-05-09</td>\n",
              "    </tr>\n",
              "  </tbody>\n",
              "</table>\n",
              "</div>\n",
              "      <button class=\"colab-df-convert\" onclick=\"convertToInteractive('df-b817121b-7b62-44ed-93b5-9677e34d2411')\"\n",
              "              title=\"Convert this dataframe to an interactive table.\"\n",
              "              style=\"display:none;\">\n",
              "        \n",
              "  <svg xmlns=\"http://www.w3.org/2000/svg\" height=\"24px\"viewBox=\"0 0 24 24\"\n",
              "       width=\"24px\">\n",
              "    <path d=\"M0 0h24v24H0V0z\" fill=\"none\"/>\n",
              "    <path d=\"M18.56 5.44l.94 2.06.94-2.06 2.06-.94-2.06-.94-.94-2.06-.94 2.06-2.06.94zm-11 1L8.5 8.5l.94-2.06 2.06-.94-2.06-.94L8.5 2.5l-.94 2.06-2.06.94zm10 10l.94 2.06.94-2.06 2.06-.94-2.06-.94-.94-2.06-.94 2.06-2.06.94z\"/><path d=\"M17.41 7.96l-1.37-1.37c-.4-.4-.92-.59-1.43-.59-.52 0-1.04.2-1.43.59L10.3 9.45l-7.72 7.72c-.78.78-.78 2.05 0 2.83L4 21.41c.39.39.9.59 1.41.59.51 0 1.02-.2 1.41-.59l7.78-7.78 2.81-2.81c.8-.78.8-2.07 0-2.86zM5.41 20L4 18.59l7.72-7.72 1.47 1.35L5.41 20z\"/>\n",
              "  </svg>\n",
              "      </button>\n",
              "      \n",
              "  <style>\n",
              "    .colab-df-container {\n",
              "      display:flex;\n",
              "      flex-wrap:wrap;\n",
              "      gap: 12px;\n",
              "    }\n",
              "\n",
              "    .colab-df-convert {\n",
              "      background-color: #E8F0FE;\n",
              "      border: none;\n",
              "      border-radius: 50%;\n",
              "      cursor: pointer;\n",
              "      display: none;\n",
              "      fill: #1967D2;\n",
              "      height: 32px;\n",
              "      padding: 0 0 0 0;\n",
              "      width: 32px;\n",
              "    }\n",
              "\n",
              "    .colab-df-convert:hover {\n",
              "      background-color: #E2EBFA;\n",
              "      box-shadow: 0px 1px 2px rgba(60, 64, 67, 0.3), 0px 1px 3px 1px rgba(60, 64, 67, 0.15);\n",
              "      fill: #174EA6;\n",
              "    }\n",
              "\n",
              "    [theme=dark] .colab-df-convert {\n",
              "      background-color: #3B4455;\n",
              "      fill: #D2E3FC;\n",
              "    }\n",
              "\n",
              "    [theme=dark] .colab-df-convert:hover {\n",
              "      background-color: #434B5C;\n",
              "      box-shadow: 0px 1px 3px 1px rgba(0, 0, 0, 0.15);\n",
              "      filter: drop-shadow(0px 1px 2px rgba(0, 0, 0, 0.3));\n",
              "      fill: #FFFFFF;\n",
              "    }\n",
              "  </style>\n",
              "\n",
              "      <script>\n",
              "        const buttonEl =\n",
              "          document.querySelector('#df-b817121b-7b62-44ed-93b5-9677e34d2411 button.colab-df-convert');\n",
              "        buttonEl.style.display =\n",
              "          google.colab.kernel.accessAllowed ? 'block' : 'none';\n",
              "\n",
              "        async function convertToInteractive(key) {\n",
              "          const element = document.querySelector('#df-b817121b-7b62-44ed-93b5-9677e34d2411');\n",
              "          const dataTable =\n",
              "            await google.colab.kernel.invokeFunction('convertToInteractive',\n",
              "                                                     [key], {});\n",
              "          if (!dataTable) return;\n",
              "\n",
              "          const docLinkHtml = 'Like what you see? Visit the ' +\n",
              "            '<a target=\"_blank\" href=https://colab.research.google.com/notebooks/data_table.ipynb>data table notebook</a>'\n",
              "            + ' to learn more about interactive tables.';\n",
              "          element.innerHTML = '';\n",
              "          dataTable['output_type'] = 'display_data';\n",
              "          await google.colab.output.renderOutput(dataTable, element);\n",
              "          const docLink = document.createElement('div');\n",
              "          docLink.innerHTML = docLinkHtml;\n",
              "          element.appendChild(docLink);\n",
              "        }\n",
              "      </script>\n",
              "    </div>\n",
              "  </div>\n",
              "  "
            ]
          },
          "metadata": {},
          "execution_count": 4
        }
      ]
    },
    {
      "cell_type": "code",
      "source": [
        "purchases.head()"
      ],
      "metadata": {
        "colab": {
          "base_uri": "https://localhost:8080/",
          "height": 206
        },
        "id": "fDhxjeNfftlr",
        "outputId": "68572e77-a255-4a39-a458-7fd337bfec60"
      },
      "execution_count": 5,
      "outputs": [
        {
          "output_type": "execute_result",
          "data": {
            "text/plain": [
              "   sessionId   userId   timeframe   eventdate  ordernumber  itemId\n",
              "0        150  18278.0    17100868  2016-05-06        16421   25911\n",
              "1        151      NaN     6454547  2016-05-06        16290  175874\n",
              "2        156      7.0  1721689387  2016-05-27        21173   35324\n",
              "3        179      NaN      343001  2016-05-09        16924   31233\n",
              "4        246     34.0     2311046  2016-05-09        16936   34677"
            ],
            "text/html": [
              "\n",
              "  <div id=\"df-3156d7b0-e9cf-44ad-bc86-45cc5ac3b48f\">\n",
              "    <div class=\"colab-df-container\">\n",
              "      <div>\n",
              "<style scoped>\n",
              "    .dataframe tbody tr th:only-of-type {\n",
              "        vertical-align: middle;\n",
              "    }\n",
              "\n",
              "    .dataframe tbody tr th {\n",
              "        vertical-align: top;\n",
              "    }\n",
              "\n",
              "    .dataframe thead th {\n",
              "        text-align: right;\n",
              "    }\n",
              "</style>\n",
              "<table border=\"1\" class=\"dataframe\">\n",
              "  <thead>\n",
              "    <tr style=\"text-align: right;\">\n",
              "      <th></th>\n",
              "      <th>sessionId</th>\n",
              "      <th>userId</th>\n",
              "      <th>timeframe</th>\n",
              "      <th>eventdate</th>\n",
              "      <th>ordernumber</th>\n",
              "      <th>itemId</th>\n",
              "    </tr>\n",
              "  </thead>\n",
              "  <tbody>\n",
              "    <tr>\n",
              "      <th>0</th>\n",
              "      <td>150</td>\n",
              "      <td>18278.0</td>\n",
              "      <td>17100868</td>\n",
              "      <td>2016-05-06</td>\n",
              "      <td>16421</td>\n",
              "      <td>25911</td>\n",
              "    </tr>\n",
              "    <tr>\n",
              "      <th>1</th>\n",
              "      <td>151</td>\n",
              "      <td>NaN</td>\n",
              "      <td>6454547</td>\n",
              "      <td>2016-05-06</td>\n",
              "      <td>16290</td>\n",
              "      <td>175874</td>\n",
              "    </tr>\n",
              "    <tr>\n",
              "      <th>2</th>\n",
              "      <td>156</td>\n",
              "      <td>7.0</td>\n",
              "      <td>1721689387</td>\n",
              "      <td>2016-05-27</td>\n",
              "      <td>21173</td>\n",
              "      <td>35324</td>\n",
              "    </tr>\n",
              "    <tr>\n",
              "      <th>3</th>\n",
              "      <td>179</td>\n",
              "      <td>NaN</td>\n",
              "      <td>343001</td>\n",
              "      <td>2016-05-09</td>\n",
              "      <td>16924</td>\n",
              "      <td>31233</td>\n",
              "    </tr>\n",
              "    <tr>\n",
              "      <th>4</th>\n",
              "      <td>246</td>\n",
              "      <td>34.0</td>\n",
              "      <td>2311046</td>\n",
              "      <td>2016-05-09</td>\n",
              "      <td>16936</td>\n",
              "      <td>34677</td>\n",
              "    </tr>\n",
              "  </tbody>\n",
              "</table>\n",
              "</div>\n",
              "      <button class=\"colab-df-convert\" onclick=\"convertToInteractive('df-3156d7b0-e9cf-44ad-bc86-45cc5ac3b48f')\"\n",
              "              title=\"Convert this dataframe to an interactive table.\"\n",
              "              style=\"display:none;\">\n",
              "        \n",
              "  <svg xmlns=\"http://www.w3.org/2000/svg\" height=\"24px\"viewBox=\"0 0 24 24\"\n",
              "       width=\"24px\">\n",
              "    <path d=\"M0 0h24v24H0V0z\" fill=\"none\"/>\n",
              "    <path d=\"M18.56 5.44l.94 2.06.94-2.06 2.06-.94-2.06-.94-.94-2.06-.94 2.06-2.06.94zm-11 1L8.5 8.5l.94-2.06 2.06-.94-2.06-.94L8.5 2.5l-.94 2.06-2.06.94zm10 10l.94 2.06.94-2.06 2.06-.94-2.06-.94-.94-2.06-.94 2.06-2.06.94z\"/><path d=\"M17.41 7.96l-1.37-1.37c-.4-.4-.92-.59-1.43-.59-.52 0-1.04.2-1.43.59L10.3 9.45l-7.72 7.72c-.78.78-.78 2.05 0 2.83L4 21.41c.39.39.9.59 1.41.59.51 0 1.02-.2 1.41-.59l7.78-7.78 2.81-2.81c.8-.78.8-2.07 0-2.86zM5.41 20L4 18.59l7.72-7.72 1.47 1.35L5.41 20z\"/>\n",
              "  </svg>\n",
              "      </button>\n",
              "      \n",
              "  <style>\n",
              "    .colab-df-container {\n",
              "      display:flex;\n",
              "      flex-wrap:wrap;\n",
              "      gap: 12px;\n",
              "    }\n",
              "\n",
              "    .colab-df-convert {\n",
              "      background-color: #E8F0FE;\n",
              "      border: none;\n",
              "      border-radius: 50%;\n",
              "      cursor: pointer;\n",
              "      display: none;\n",
              "      fill: #1967D2;\n",
              "      height: 32px;\n",
              "      padding: 0 0 0 0;\n",
              "      width: 32px;\n",
              "    }\n",
              "\n",
              "    .colab-df-convert:hover {\n",
              "      background-color: #E2EBFA;\n",
              "      box-shadow: 0px 1px 2px rgba(60, 64, 67, 0.3), 0px 1px 3px 1px rgba(60, 64, 67, 0.15);\n",
              "      fill: #174EA6;\n",
              "    }\n",
              "\n",
              "    [theme=dark] .colab-df-convert {\n",
              "      background-color: #3B4455;\n",
              "      fill: #D2E3FC;\n",
              "    }\n",
              "\n",
              "    [theme=dark] .colab-df-convert:hover {\n",
              "      background-color: #434B5C;\n",
              "      box-shadow: 0px 1px 3px 1px rgba(0, 0, 0, 0.15);\n",
              "      filter: drop-shadow(0px 1px 2px rgba(0, 0, 0, 0.3));\n",
              "      fill: #FFFFFF;\n",
              "    }\n",
              "  </style>\n",
              "\n",
              "      <script>\n",
              "        const buttonEl =\n",
              "          document.querySelector('#df-3156d7b0-e9cf-44ad-bc86-45cc5ac3b48f button.colab-df-convert');\n",
              "        buttonEl.style.display =\n",
              "          google.colab.kernel.accessAllowed ? 'block' : 'none';\n",
              "\n",
              "        async function convertToInteractive(key) {\n",
              "          const element = document.querySelector('#df-3156d7b0-e9cf-44ad-bc86-45cc5ac3b48f');\n",
              "          const dataTable =\n",
              "            await google.colab.kernel.invokeFunction('convertToInteractive',\n",
              "                                                     [key], {});\n",
              "          if (!dataTable) return;\n",
              "\n",
              "          const docLinkHtml = 'Like what you see? Visit the ' +\n",
              "            '<a target=\"_blank\" href=https://colab.research.google.com/notebooks/data_table.ipynb>data table notebook</a>'\n",
              "            + ' to learn more about interactive tables.';\n",
              "          element.innerHTML = '';\n",
              "          dataTable['output_type'] = 'display_data';\n",
              "          await google.colab.output.renderOutput(dataTable, element);\n",
              "          const docLink = document.createElement('div');\n",
              "          docLink.innerHTML = docLinkHtml;\n",
              "          element.appendChild(docLink);\n",
              "        }\n",
              "      </script>\n",
              "    </div>\n",
              "  </div>\n",
              "  "
            ]
          },
          "metadata": {},
          "execution_count": 5
        }
      ]
    },
    {
      "cell_type": "markdown",
      "source": [
        "3. Preprocess Data"
      ],
      "metadata": {
        "id": "WQoxPiNyf1hE"
      }
    },
    {
      "cell_type": "code",
      "source": [
        "# We will use users instead of sessions --> there is more overlap between the two datasets\n",
        "# keep only columns we need\n",
        "cols = [\"userId\", \"itemId\", \"eventdate\"]\n",
        "views = views[cols]\n",
        "purchases = purchases[cols]"
      ],
      "metadata": {
        "id": "z6ERsMgVfwrQ"
      },
      "execution_count": 6,
      "outputs": []
    },
    {
      "cell_type": "code",
      "source": [
        "# drop nas and change to int\n",
        "views = views.dropna().astype({\"userId\": int})\n",
        "purchases = purchases.dropna().astype({\"userId\": int})"
      ],
      "metadata": {
        "id": "c8kykcrlggDK"
      },
      "execution_count": 7,
      "outputs": []
    },
    {
      "cell_type": "code",
      "source": [
        "# change eventdate to sortable time\n",
        "views[\"eventdate\"] = pd.to_datetime(views[\"eventdate\"])\n",
        "purchases[\"eventdate\"] = pd.to_datetime(purchases[\"eventdate\"])"
      ],
      "metadata": {
        "id": "cr9YjoNrgjrU"
      },
      "execution_count": 8,
      "outputs": []
    },
    {
      "cell_type": "code",
      "source": [
        "# rename columns\n",
        "rename_cols = {\"userId\": \"session_id\", \"itemId\": \"item_id\", \"eventdate\": \"timestamp\"}\n",
        "views = views.rename(columns=rename_cols)\n",
        "purchases = purchases.rename(columns=rename_cols)"
      ],
      "metadata": {
        "id": "_pcvhz_4hJXm"
      },
      "execution_count": 9,
      "outputs": []
    },
    {
      "cell_type": "code",
      "source": [
        "# outer merge with indicator\n",
        "events = pd.merge(\n",
        "    views,\n",
        "    purchases,\n",
        "    how=\"outer\",\n",
        "    on=[\"session_id\", \"item_id\", \"timestamp\"],\n",
        "    indicator=True,\n",
        ")"
      ],
      "metadata": {
        "id": "cDvVyWc5hwIn"
      },
      "execution_count": 10,
      "outputs": []
    },
    {
      "cell_type": "code",
      "source": [
        "# if _merge is left_only, then it was viewed not purchased, else it was purchased\n",
        "events[\"is_buy\"] = np.where(events[\"_merge\"] == \"left_only\", 0, 1)\n",
        "events.drop(\"_merge\", axis=1, inplace=True)"
      ],
      "metadata": {
        "id": "6egesNzIh1I3"
      },
      "execution_count": 11,
      "outputs": []
    },
    {
      "cell_type": "code",
      "source": [
        "######## transform to ids\n",
        "item_encoder = LabelEncoder()\n",
        "session_encoder = LabelEncoder()\n",
        "events[\"item_id\"] = item_encoder.fit_transform(events.item_id)\n",
        "events[\"session_id\"] = session_encoder.fit_transform(events.session_id)\n"
      ],
      "metadata": {
        "id": "De0sg6NLzK0t"
      },
      "execution_count": 12,
      "outputs": []
    },
    {
      "cell_type": "code",
      "source": [
        "##########sorted by user and timestamp\n",
        "sorted_events = events.sort_values(by=[\"session_id\", \"timestamp\"])\n"
      ],
      "metadata": {
        "id": "sVp880SCHxdK"
      },
      "execution_count": 13,
      "outputs": []
    },
    {
      "cell_type": "code",
      "source": [
        "output_path = '/content/GoogleDrive/My Drive/DUKE/AIPI531_DRL/Project/Data/Diginetica.csv'\n",
        "sorted_events.to_csv(output_path, index=False)"
      ],
      "metadata": {
        "id": "vZEUKwRBIHwM"
      },
      "execution_count": 14,
      "outputs": []
    },
    {
      "cell_type": "code",
      "source": [
        "!ls '/content/GoogleDrive/My Drive/DUKE/AIPI531_DRL/Project/Data/'\n"
      ],
      "metadata": {
        "colab": {
          "base_uri": "https://localhost:8080/"
        },
        "id": "aH-7vJV_IXP2",
        "outputId": "6f86312a-3aa2-4630-81ac-09d335e310dc"
      },
      "execution_count": 15,
      "outputs": [
        {
          "output_type": "stream",
          "name": "stdout",
          "text": [
            "dataset-train-diginetica  dataset-train-diginetica.zip\tDiginetica.csv\n"
          ]
        }
      ]
    }
  ]
}